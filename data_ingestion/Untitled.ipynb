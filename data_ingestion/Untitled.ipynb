{
 "cells": [
  {
   "cell_type": "code",
   "execution_count": 6,
   "id": "32a46352-9714-4a86-894a-d7866afff9a1",
   "metadata": {},
   "outputs": [],
   "source": [
    "import pandas as pd\n",
    "import numpy as np\n",
    "import json"
   ]
  },
  {
   "cell_type": "code",
   "execution_count": 19,
   "id": "66d5e2aa-3774-4903-8521-8a0774e17263",
   "metadata": {},
   "outputs": [],
   "source": [
    "LINK_TYPE_MAP = {\n",
    "    'd': 'definition',\n",
    "    'el': 'elaboration',\n",
    "    's': 'synonym',\n",
    "    'ex': 'example',\n",
    "}\n",
    "\n",
    "OUTPUT_PATH = '../data/data_gsheets.json'\n",
    "\n",
    "raw = pd.read_csv('./gsheets.csv')"
   ]
  },
  {
   "cell_type": "code",
   "execution_count": 20,
   "id": "816b3f30-f5ae-4381-a506-eae4154dc2e1",
   "metadata": {},
   "outputs": [
    {
     "data": {
      "text/plain": [
       "Index(['Id', 'Content', 'Context Name', 'Child', 'Rel', 'Child.1', 'Rel.1',\n",
       "       'Child.2', 'Rel.2', 'Unnamed: 9', 'Unnamed: 10', 'Unnamed: 11',\n",
       "       'Unnamed: 12', 'Unnamed: 13', 'Unnamed: 14', 'Unnamed: 15',\n",
       "       'Unnamed: 16', 'Unnamed: 17', 'Unnamed: 18', 'Unnamed: 19',\n",
       "       'Unnamed: 20', 'Unnamed: 21', 'Unnamed: 22', 'Unnamed: 23',\n",
       "       'Unnamed: 24', 'Unnamed: 25', 'Unnamed: 26', 'Unnamed: 27',\n",
       "       'Unnamed: 28', 'Unnamed: 29', 'Unnamed: 30', 'Unnamed: 31',\n",
       "       'Unnamed: 32', 'Unnamed: 33', 'Unnamed: 34'],\n",
       "      dtype='object')"
      ]
     },
     "execution_count": 20,
     "metadata": {},
     "output_type": "execute_result"
    }
   ],
   "source": [
    "raw.columns"
   ]
  },
  {
   "cell_type": "code",
   "execution_count": 21,
   "id": "0271f4a9-1160-4400-9a54-d17567eb683c",
   "metadata": {},
   "outputs": [
    {
     "name": "stdout",
     "output_type": "stream",
     "text": [
      "43\n",
      "28\n",
      "[2, 3, 10, 25, 8, 5, 6, 7, 28, 29, 30, 11, 13, 21, 15, 16, 17, 18, 19, 20, 14, 22, 23, 24, 26, 8, 27, 28]\n"
     ]
    }
   ],
   "source": [
    "nodes = []\n",
    "links = []\n",
    "\n",
    "node_ids = set()\n",
    "\n",
    "for r in raw.itertuples():\n",
    "    node = {}\n",
    "    node_links = []\n",
    "    node_id = int(r[1])\n",
    "    \n",
    "    node['id']   = node_id\n",
    "    node['text'] = r[2]\n",
    "    context_name = r[3]\n",
    "    \n",
    "    if isinstance(node['text'], float):\n",
    "        continue\n",
    "    \n",
    "    node_ids.add(node_id)\n",
    "    \n",
    "    if not isinstance(context_name, float):\n",
    "        node['context_name'] = context_name\n",
    "\n",
    "    for i in range(4, len(r), 2):\n",
    "        target_id_raw, kind_raw = r[i], r[i+1]\n",
    "        if not isinstance(kind_raw, float):\n",
    "            links.append({\n",
    "                'source': node_id,\n",
    "                'target': int(target_id_raw),\n",
    "                'kind': LINK_TYPE_MAP[kind_raw]\n",
    "            })\n",
    "            \n",
    "    nodes.append(node)\n",
    "    \n",
    "print(len(links))\n",
    "links = [l for l in links if l['target'] in node_ids]\n",
    "\n",
    "print(len(links))\n",
    "print([l['target'] for l in links])"
   ]
  },
  {
   "cell_type": "code",
   "execution_count": 22,
   "id": "863216e7-ddcf-4eea-aa38-150734de2f0c",
   "metadata": {},
   "outputs": [],
   "source": [
    "with open(OUTPUT_PATH, 'w') as f:\n",
    "    json.dump({ 'nodes': nodes, 'links': links }, f)"
   ]
  },
  {
   "cell_type": "code",
   "execution_count": null,
   "id": "ed408da0-8274-4406-88cd-d5ab70b2ff15",
   "metadata": {},
   "outputs": [],
   "source": [
    "node_ids"
   ]
  },
  {
   "cell_type": "raw",
   "id": "619dea06-ac38-40e3-a0c1-28e103855a72",
   "metadata": {},
   "source": []
  }
 ],
 "metadata": {
  "kernelspec": {
   "display_name": "Python 3 (ipykernel)",
   "language": "python",
   "name": "python3"
  },
  "language_info": {
   "codemirror_mode": {
    "name": "ipython",
    "version": 3
   },
   "file_extension": ".py",
   "mimetype": "text/x-python",
   "name": "python",
   "nbconvert_exporter": "python",
   "pygments_lexer": "ipython3",
   "version": "3.10.0"
  }
 },
 "nbformat": 4,
 "nbformat_minor": 5
}
