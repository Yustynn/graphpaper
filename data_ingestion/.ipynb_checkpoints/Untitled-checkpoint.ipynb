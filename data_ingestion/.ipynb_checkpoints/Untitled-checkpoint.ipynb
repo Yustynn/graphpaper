{
 "cells": [
  {
   "cell_type": "code",
   "execution_count": 51,
   "id": "32a46352-9714-4a86-894a-d7866afff9a1",
   "metadata": {},
   "outputs": [],
   "source": [
    "import pandas as pd\n",
    "import numpy as np\n",
    "import json"
   ]
  },
  {
   "cell_type": "code",
   "execution_count": 53,
   "id": "66d5e2aa-3774-4903-8521-8a0774e17263",
   "metadata": {},
   "outputs": [],
   "source": [
    "LINK_TYPE_MAP = {\n",
    "    'd': 'definition',\n",
    "    'el': 'elaboration',\n",
    "    'ex': 'example'\n",
    "}\n",
    "\n",
    "OUTPUT_PATH = '../data/data_gsheets.json'\n",
    "\n",
    "raw = pd.read_csv('./GraphPaper Data - Sheet1.csv')"
   ]
  },
  {
   "cell_type": "code",
   "execution_count": 47,
   "id": "22a36625-6dea-4ba0-b5f7-b2eb24726bab",
   "metadata": {},
   "outputs": [],
   "source": [
    "LINK_TYPE_MAP = {\n",
    "    'd': 'definition',\n",
    "    'el': 'elaboration',\n",
    "    'ex': 'example'\n",
    "}"
   ]
  },
  {
   "cell_type": "code",
   "execution_count": 48,
   "id": "816b3f30-f5ae-4381-a506-eae4154dc2e1",
   "metadata": {},
   "outputs": [
    {
     "data": {
      "text/plain": [
       "Index(['Id', 'Content', 'Context Name', 'Child', 'Rel', 'Child.1', 'Rel.1',\n",
       "       'Child.2', 'Rel.2', 'Unnamed: 9', 'Unnamed: 10', 'Unnamed: 11',\n",
       "       'Unnamed: 12', 'Unnamed: 13', 'Unnamed: 14', 'Unnamed: 15',\n",
       "       'Unnamed: 16', 'Unnamed: 17', 'Unnamed: 18', 'Unnamed: 19',\n",
       "       'Unnamed: 20', 'Unnamed: 21', 'Unnamed: 22', 'Unnamed: 23',\n",
       "       'Unnamed: 24', 'Unnamed: 25', 'Unnamed: 26', 'Unnamed: 27',\n",
       "       'Unnamed: 28', 'Unnamed: 29', 'Unnamed: 30', 'Unnamed: 31',\n",
       "       'Unnamed: 32', 'Unnamed: 33', 'Unnamed: 34'],\n",
       "      dtype='object')"
      ]
     },
     "execution_count": 48,
     "metadata": {},
     "output_type": "execute_result"
    }
   ],
   "source": [
    "raw.columns"
   ]
  },
  {
   "cell_type": "code",
   "execution_count": 64,
   "id": "0271f4a9-1160-4400-9a54-d17567eb683c",
   "metadata": {},
   "outputs": [
    {
     "name": "stdout",
     "output_type": "stream",
     "text": [
      "32\n",
      "26\n",
      "[2, 3, 10, 25, 45, 50, 8, 74, 82, 83, 5, 6, 7, 11, 13, 21, 15, 16, 17, 18, 19, 20, 14, 22, 23, 24]\n"
     ]
    }
   ],
   "source": [
    "nodes = []\n",
    "links = []\n",
    "\n",
    "node_ids = set()\n",
    "\n",
    "for r in raw.itertuples():\n",
    "    node = {}\n",
    "    node_links = []\n",
    "    node_id = int(r[1])\n",
    "    \n",
    "    node['id']   = node_id\n",
    "    node['text'] = r[2]\n",
    "    context_name = r[3]\n",
    "    \n",
    "    if isinstance(node['text'], float):\n",
    "        continue\n",
    "    \n",
    "    node_ids.add(node_id)\n",
    "    \n",
    "    if not isinstance(context_name, float):\n",
    "        node['context_name'] = context_name\n",
    "\n",
    "    for i in range(4, len(r), 2):\n",
    "        target_id_raw, kind_raw = r[i], r[i+1]\n",
    "        if not isinstance(kind_raw, float):\n",
    "            links.append({\n",
    "                'source': node_id,\n",
    "                'target': int(target_id_raw),\n",
    "                'kind': LINK_TYPE_MAP[kind_raw]\n",
    "            })\n",
    "            \n",
    "    nodes.append(node)\n",
    "    \n",
    "print(len(links))\n",
    "links = [l for l in links if l['target'] in node_ids]\n",
    "\n",
    "print(len(links))\n",
    "print([l['target'] for l in links])"
   ]
  },
  {
   "cell_type": "code",
   "execution_count": 62,
   "id": "863216e7-ddcf-4eea-aa38-150734de2f0c",
   "metadata": {},
   "outputs": [],
   "source": [
    "with open(OUTPUT_PATH, 'w') as f:\n",
    "    json.dump({ 'nodes': nodes, 'links': links }, f)"
   ]
  },
  {
   "cell_type": "code",
   "execution_count": 66,
   "id": "ed408da0-8274-4406-88cd-d5ab70b2ff15",
   "metadata": {},
   "outputs": [
    {
     "data": {
      "text/plain": [
       "{0,\n",
       " 1,\n",
       " 2,\n",
       " 3,\n",
       " 4,\n",
       " 5,\n",
       " 6,\n",
       " 7,\n",
       " 8,\n",
       " 9,\n",
       " 10,\n",
       " 11,\n",
       " 12,\n",
       " 13,\n",
       " 14,\n",
       " 15,\n",
       " 16,\n",
       " 17,\n",
       " 18,\n",
       " 19,\n",
       " 20,\n",
       " 21,\n",
       " 22,\n",
       " 23,\n",
       " 24,\n",
       " 25,\n",
       " 26,\n",
       " 27,\n",
       " 28,\n",
       " 29,\n",
       " 30,\n",
       " 31,\n",
       " 32,\n",
       " 33,\n",
       " 34,\n",
       " 35,\n",
       " 36,\n",
       " 37,\n",
       " 38,\n",
       " 39,\n",
       " 40,\n",
       " 41,\n",
       " 42,\n",
       " 43,\n",
       " 44,\n",
       " 45,\n",
       " 46,\n",
       " 47,\n",
       " 48,\n",
       " 49,\n",
       " 50,\n",
       " 51,\n",
       " 52,\n",
       " 53,\n",
       " 54,\n",
       " 55,\n",
       " 56,\n",
       " 57,\n",
       " 58,\n",
       " 59,\n",
       " 60,\n",
       " 61,\n",
       " 62,\n",
       " 63,\n",
       " 64,\n",
       " 65,\n",
       " 66,\n",
       " 67,\n",
       " 68,\n",
       " 69,\n",
       " 70,\n",
       " 71,\n",
       " 72,\n",
       " 73,\n",
       " 74,\n",
       " 75,\n",
       " 76,\n",
       " 77,\n",
       " 78,\n",
       " 79,\n",
       " 80,\n",
       " 81,\n",
       " 82,\n",
       " 83,\n",
       " 84,\n",
       " 85,\n",
       " 86,\n",
       " 87,\n",
       " 88,\n",
       " 89,\n",
       " 90,\n",
       " 91,\n",
       " 92,\n",
       " 93}"
      ]
     },
     "execution_count": 66,
     "metadata": {},
     "output_type": "execute_result"
    }
   ],
   "source": [
    "node_ids"
   ]
  },
  {
   "cell_type": "code",
   "execution_count": null,
   "id": "164f5e6b-802e-403d-8a83-e0af706bf10c",
   "metadata": {},
   "outputs": [],
   "source": []
  }
 ],
 "metadata": {
  "kernelspec": {
   "display_name": "Python 3 (ipykernel)",
   "language": "python",
   "name": "python3"
  },
  "language_info": {
   "codemirror_mode": {
    "name": "ipython",
    "version": 3
   },
   "file_extension": ".py",
   "mimetype": "text/x-python",
   "name": "python",
   "nbconvert_exporter": "python",
   "pygments_lexer": "ipython3",
   "version": "3.10.0"
  }
 },
 "nbformat": 4,
 "nbformat_minor": 5
}
